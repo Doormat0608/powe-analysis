{
 "cells": [
  {
   "cell_type": "markdown",
   "metadata": {},
   "source": [
    "# Prediction of Solar Power generation using Linear Regression and XG Boost"
   ]
  },
  {
   "cell_type": "code",
   "execution_count": 1,
   "metadata": {},
   "outputs": [
    {
     "ename": "ModuleNotFoundError",
     "evalue": "No module named 'seaborn'",
     "output_type": "error",
     "traceback": [
      "\u001b[1;31m---------------------------------------------------------------------------\u001b[0m",
      "\u001b[1;31mModuleNotFoundError\u001b[0m                       Traceback (most recent call last)",
      "Cell \u001b[1;32mIn[1], line 4\u001b[0m\n\u001b[0;32m      2\u001b[0m \u001b[38;5;28;01mimport\u001b[39;00m \u001b[38;5;21;01mnumpy\u001b[39;00m \u001b[38;5;28;01mas\u001b[39;00m \u001b[38;5;21;01mnp\u001b[39;00m\n\u001b[0;32m      3\u001b[0m \u001b[38;5;28;01mimport\u001b[39;00m \u001b[38;5;21;01mmatplotlib\u001b[39;00m\u001b[38;5;21;01m.\u001b[39;00m\u001b[38;5;21;01mpyplot\u001b[39;00m \u001b[38;5;28;01mas\u001b[39;00m \u001b[38;5;21;01mplt\u001b[39;00m\n\u001b[1;32m----> 4\u001b[0m \u001b[38;5;28;01mimport\u001b[39;00m \u001b[38;5;21;01mseaborn\u001b[39;00m \u001b[38;5;28;01mas\u001b[39;00m \u001b[38;5;21;01msns\u001b[39;00m\n\u001b[0;32m      5\u001b[0m sns\u001b[38;5;241m.\u001b[39mset(color_codes\u001b[38;5;241m=\u001b[39m\u001b[38;5;28;01mTrue\u001b[39;00m)\n\u001b[0;32m      6\u001b[0m get_ipython()\u001b[38;5;241m.\u001b[39mrun_line_magic(\u001b[38;5;124m'\u001b[39m\u001b[38;5;124mmatplotlib\u001b[39m\u001b[38;5;124m'\u001b[39m, \u001b[38;5;124m'\u001b[39m\u001b[38;5;124minline\u001b[39m\u001b[38;5;124m'\u001b[39m)\n",
      "\u001b[1;31mModuleNotFoundError\u001b[0m: No module named 'seaborn'"
     ]
    }
   ],
   "source": [
    "import pandas as pd\n",
    "import numpy as np\n",
    "import matplotlib.pyplot as plt\n",
    "import seaborn as sns\n",
    "sns.set(color_codes=True)\n",
    "%matplotlib inline"
   ]
  },
  {
   "cell_type": "code",
   "execution_count": null,
   "metadata": {},
   "outputs": [],
   "source": [
    "data_folder_location = 'CSV/'\n",
    "\n",
    "# Import Plant generation data and weather senson data\n",
    "plant1_generation_data = pd.read_csv(\n",
    "    data_folder_location + 'Plant_1_Generation_Data.csv', index_col=False)\n",
    "plant2_generation_data = pd.read_csv(\n",
    "    data_folder_location + 'Plant_2_Generation_Data.csv', index_col=False)\n",
    "\n",
    "# Import weather sensor data\n",
    "plant1_weather_sensor_data = pd.read_csv(\n",
    "    data_folder_location + 'Plant_1_Weather_Sensor_Data.csv', index_col=False)\n",
    "plant2_weather_sensor_data = pd.read_csv(\n",
    "    data_folder_location + 'Plant_2_Weather_Sensor_Data.csv', index_col=False)"
   ]
  },
  {
   "cell_type": "code",
   "execution_count": null,
   "metadata": {},
   "outputs": [],
   "source": [
    "# Retaining relevant data\n",
    "plant2_generation_Time = plant2_generation_data.groupby(\n",
    "    ['DATE_TIME'], as_index=False).sum()\n",
    "plant2_generation_Time = plant2_generation_Time[[\n",
    "    'DATE_TIME', 'DC_POWER', 'AC_POWER', 'DAILY_YIELD']]"
   ]
  },
  {
   "cell_type": "code",
   "execution_count": null,
   "metadata": {},
   "outputs": [],
   "source": [
    "# Retaining relevant data\n",
    "plant2_weather_sensor_data1 = plant2_weather_sensor_data.drop(\n",
    "    ['PLANT_ID', 'SOURCE_KEY'], axis=1)\n",
    "\n",
    "# Merge plant 1 solar generation data and weather data\n",
    "merged_data_plant2 = pd.merge(\n",
    "    plant2_generation_Time, plant2_weather_sensor_data1, how='inner', on='DATE_TIME')"
   ]
  },
  {
   "cell_type": "markdown",
   "metadata": {},
   "source": [
    "## AC Power Output prediction of Plant"
   ]
  },
  {
   "cell_type": "code",
   "execution_count": null,
   "metadata": {},
   "outputs": [],
   "source": [
    "from sklearn import datasets, linear_model\n",
    "from sklearn.model_selection import train_test_split, GridSearchCV\n",
    "from sklearn.pipeline import Pipeline\n",
    "from sklearn.metrics import r2_score, mean_squared_error, mean_absolute_error, mean_absolute_percentage_error\n",
    "from sklearn.utils import check_array\n",
    "import xgboost as xgb\n",
    "from xgboost import plot_importance\n",
    "plt.style.use('fivethirtyeight')"
   ]
  },
  {
   "cell_type": "code",
   "execution_count": null,
   "metadata": {
    "scrolled": true
   },
   "outputs": [],
   "source": [
    "target = merged_data_plant2['AC_POWER']\n",
    "features = merged_data_plant2[['IRRADIATION', 'AMBIENT_TEMPERATURE']]"
   ]
  },
  {
   "cell_type": "code",
   "execution_count": null,
   "metadata": {},
   "outputs": [],
   "source": [
    "# Split the data in to train and test sets\n",
    "#scaler = MinMaxScaler(feature_range=(0, 1))\n",
    "#features_norm = scaler.fit_transform(features)\n",
    "#target_norm = scaler.fit_transform(target)\n",
    "X_train, X_test, y_train, y_test = train_test_split(\n",
    "    features, target, test_size=0.3, random_state=5)"
   ]
  },
  {
   "cell_type": "markdown",
   "metadata": {},
   "source": [
    "## Prediction using Linear Regression"
   ]
  },
  {
   "cell_type": "code",
   "execution_count": null,
   "metadata": {},
   "outputs": [],
   "source": [
    "lm = linear_model.LinearRegression()\n",
    "model_lm = lm.fit(X_train, y_train)\n",
    "pred_y_test_lm = lm.predict(X_test)"
   ]
  },
  {
   "cell_type": "code",
   "execution_count": null,
   "metadata": {},
   "outputs": [],
   "source": [
    "# Calculate MSE, MAE and MAPE for Predicted output to quantify model error\n",
    "R2_lm = r2_score(y_test, pred_y_test_lm)\n",
    "mse_lm = mean_squared_error(y_test, pred_y_test_lm, squared=False)\n",
    "mae_lm = mean_absolute_error(y_test, pred_y_test_lm)\n",
    "\n",
    "\n",
    "def mean_absolute_scaled_error(y_true, y_pred, y_train):\n",
    "    e_t = y_true - y_pred\n",
    "    scale = mean_absolute_error(y_train[1:], y_train[:-1])\n",
    "    return np.mean(np.abs(e_t / scale))\n",
    "\n",
    "\n",
    "mase_lm = mean_absolute_scaled_error(y_test, pred_y_test_lm, y_train)\n",
    "\n",
    "print('R2 using Linear Regression:', R2_lm, '  '   'RMSE using Linear Regression:', mse_lm,\n",
    "      '\\n '   'MAE using Linear Regression:', mae_lm, '  '   'MASE using Linear Regression:', mase_lm)"
   ]
  },
  {
   "cell_type": "markdown",
   "metadata": {},
   "source": [
    "## Prediction using XG Boost Model"
   ]
  },
  {
   "cell_type": "code",
   "execution_count": null,
   "metadata": {},
   "outputs": [],
   "source": [
    "config = xgb.get_config()\n",
    "config"
   ]
  },
  {
   "cell_type": "code",
   "execution_count": null,
   "metadata": {
    "scrolled": true
   },
   "outputs": [],
   "source": [
    "# Fit XGB model on the Solar Generation Dataset\n",
    "model_xgb = xgb.XGBRegressor(n_estimators=50)\n",
    "model_xgb.fit(X_train, y_train,\n",
    "              eval_set=[(X_train, y_train),\n",
    "                        (X_test, y_test)],\n",
    "              early_stopping_rounds=50,\n",
    "              verbose=False)"
   ]
  },
  {
   "cell_type": "code",
   "execution_count": null,
   "metadata": {},
   "outputs": [],
   "source": [
    "# Plot features by Significance for forecasting\n",
    "_ = plot_importance(model_xgb, height=0.5)"
   ]
  },
  {
   "cell_type": "code",
   "execution_count": null,
   "metadata": {},
   "outputs": [],
   "source": [
    "pred_y_test_xgb = model_xgb.predict(X_test)"
   ]
  },
  {
   "cell_type": "code",
   "execution_count": null,
   "metadata": {},
   "outputs": [],
   "source": [
    "# Calculate MSE, MAE and MAPE for Predicted output to quantify model error\n",
    "R2_xgb = r2_score(y_test, pred_y_test_xgb)\n",
    "mse_xgb = mean_squared_error(y_test, pred_y_test_xgb, squared=False)\n",
    "mae_xgb = mean_absolute_error(y_test, pred_y_test_xgb)\n",
    "mase_xgb = mean_absolute_scaled_error(y_test, pred_y_test_xgb, y_train)\n",
    "\n",
    "print('R2 using XGB:', R2_xgb, '  '   'RMSE using XGB:', mse_xgb,\n",
    "      '\\n '   'MAE using XGB:', mae_xgb, '  '   'MASE using XGB:', mase_xgb)"
   ]
  },
  {
   "cell_type": "markdown",
   "metadata": {},
   "source": [
    "## XGB with Gridsearch Parameter Selection"
   ]
  },
  {
   "cell_type": "code",
   "execution_count": null,
   "metadata": {},
   "outputs": [],
   "source": [
    "# Define Pipeline and Parammeter grid\n",
    "pipeline = Pipeline([\n",
    "    ('model', model_xgb)\n",
    "])\n",
    "\n",
    "param_grid = {\n",
    "    'model__max_depth': [2, 3, 5, 7],\n",
    "    'model__n_estimators': [10, 50, 100],\n",
    "    'model__learning_rate': [0.02, 0.05, 0.1, 0.3],\n",
    "    'model__min_child_weight': [0.5, 1, 2]\n",
    "}\n",
    "\n",
    "grid = GridSearchCV(pipeline, param_grid, cv=5, n_jobs=-1)"
   ]
  },
  {
   "cell_type": "code",
   "execution_count": null,
   "metadata": {
    "scrolled": true
   },
   "outputs": [],
   "source": [
    "# Fit the model\n",
    "grid.fit(X_train, y_train)"
   ]
  },
  {
   "cell_type": "code",
   "execution_count": null,
   "metadata": {},
   "outputs": [],
   "source": [
    "# Print the Best parameters for the model identified using Gridsearch\n",
    "print(f\"Best parameters: {grid.best_params_}\")"
   ]
  },
  {
   "cell_type": "code",
   "execution_count": null,
   "metadata": {},
   "outputs": [],
   "source": [
    "# Predict using Gridsearch\n",
    "pred_y_test_xgb_grid = grid.predict(X_test)"
   ]
  },
  {
   "cell_type": "code",
   "execution_count": null,
   "metadata": {},
   "outputs": [],
   "source": [
    "# Calculate MSE, MAE and MAPE for Predicted output to quantify model error\n",
    "R2_xgb_grid = r2_score(y_test, pred_y_test_xgb_grid)\n",
    "mse_xgb_grid = mean_squared_error(y_test, pred_y_test_xgb_grid, squared=False)\n",
    "mae_xgb_grid = mean_absolute_error(y_test, pred_y_test_xgb_grid)\n",
    "mase_xgb_grid = mean_absolute_scaled_error(\n",
    "    y_test, pred_y_test_xgb_grid, y_train)\n",
    "\n",
    "print('R2 using XGB_grid:', R2_xgb_grid, '  '   'RMSE using XGB_grid:', mse_xgb_grid,\n",
    "      '\\n '   'MAE using XGB_grid:', mae_xgb_grid, '  '   'MASE using XGB_grid:', mase_xgb_grid)"
   ]
  },
  {
   "cell_type": "markdown",
   "metadata": {},
   "source": [
    "## Prediction using LSTM"
   ]
  },
  {
   "cell_type": "code",
   "execution_count": null,
   "metadata": {},
   "outputs": [],
   "source": [
    "import keras\n",
    "from keras.models import Sequential\n",
    "from keras.layers import Dense\n",
    "from keras.layers import LSTM\n",
    "from sklearn.preprocessing import MinMaxScaler"
   ]
  },
  {
   "cell_type": "code",
   "execution_count": null,
   "metadata": {},
   "outputs": [],
   "source": [
    "# Split the normalized data in to train and test sets\n",
    "scaler = MinMaxScaler(feature_range=(0, 1))\n",
    "features_norm = scaler.fit_transform(features)\n",
    "#target_norm = scaler.fit_transform(target)\n",
    "X_train1, X_test1, y_train1, y_test1 = train_test_split(\n",
    "    features_norm, target, test_size=0.3, random_state=5)"
   ]
  }
 ],
 "metadata": {
  "kernelspec": {
   "display_name": "Python 3 (ipykernel)",
   "language": "python",
   "name": "python3"
  },
  "language_info": {
   "codemirror_mode": {
    "name": "ipython",
    "version": 3
   },
   "file_extension": ".py",
   "mimetype": "text/x-python",
   "name": "python",
   "nbconvert_exporter": "python",
   "pygments_lexer": "ipython3",
   "version": "3.8.16"
  }
 },
 "nbformat": 4,
 "nbformat_minor": 4
}
