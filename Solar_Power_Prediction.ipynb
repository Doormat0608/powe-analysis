{
  "cells": [
    {
      "cell_type": "code",
      "execution_count": null,
      "metadata": {
        "id": "5F39Lg0QzDbi"
      },
      "outputs": [],
      "source": [
        "import pandas as pd\n",
        "import numpy as np\n",
        "import matplotlib.pyplot as plt\n",
        "import seaborn as sns\n",
        "sns.set(color_codes=True)\n",
        "%matplotlib inline"
      ]
    },
    {
      "cell_type": "code",
      "execution_count": null,
      "metadata": {
        "id": "RdFdi92azDbj"
      },
      "outputs": [],
      "source": [
        "data_folder_location = 'data/'\n",
        "\n",
        "# Импорт данных о генерации электроэнергии и данных датчиков погоды\n",
        "plant1_generation_data = pd.read_csv(\n",
        "    data_folder_location + 'Plant_1_Generation_Data.csv', index_col=False)\n",
        "plant2_generation_data = pd.read_csv(\n",
        "    data_folder_location + 'Plant_2_Generation_Data.csv', index_col=False)\n",
        "\n",
        "# Импорт данных датчиков погоды\n",
        "plant1_weather_sensor_data = pd.read_csv(\n",
        "    data_folder_location + 'Plant_1_Weather_Sensor_Data.csv', index_col=False)\n",
        "plant2_weather_sensor_data = pd.read_csv(\n",
        "    data_folder_location + 'Plant_2_Weather_Sensor_Data.csv', index_col=False)"
      ]
    },
    {
      "cell_type": "code",
      "execution_count": null,
      "metadata": {
        "colab": {
          "base_uri": "https://localhost:8080/"
        },
        "id": "uuybT-guzDbk",
        "outputId": "c88392e4-07da-4e8a-98d3-3911a0ca95af"
      },
      "outputs": [
        {
          "output_type": "stream",
          "name": "stderr",
          "text": [
            "<ipython-input-99-da713148afe4>:3: FutureWarning: The default value of numeric_only in DataFrameGroupBy.sum is deprecated. In a future version, numeric_only will default to False. Either specify numeric_only or select only columns which should be valid for the function.\n",
            "  ['DATE_TIME'], as_index=False).sum()\n"
          ]
        }
      ],
      "source": [
        "# Сохранение только необходимых данных\n",
        "plant2_generation_Time = plant2_generation_data.groupby(\n",
        "    ['DATE_TIME'], as_index=False).sum()\n",
        "plant2_generation_Time = plant2_generation_Time[[\n",
        "    'DATE_TIME', 'DC_POWER', 'AC_POWER', 'DAILY_YIELD']]"
      ]
    },
    {
      "cell_type": "code",
      "execution_count": null,
      "metadata": {
        "id": "Wefrnx04zDbk"
      },
      "outputs": [],
      "source": [
        "# Сохранение только необходимых данных\n",
        "plant2_weather_sensor_data1 = plant2_weather_sensor_data.drop(\n",
        "    ['PLANT_ID', 'SOURCE_KEY'], axis=1)\n",
        "\n",
        "# Объединение данных о солнечной генерации установки 2 и данных о погоде\n",
        "merged_data_plant2 = pd.merge(\n",
        "    plant2_generation_Time, plant2_weather_sensor_data1, how='inner', on='DATE_TIME')"
      ]
    },
    {
      "cell_type": "code",
      "execution_count": null,
      "metadata": {
        "id": "sc9LEP0EzDbl"
      },
      "outputs": [],
      "source": [
        "from sklearn import datasets, linear_model\n",
        "from sklearn.model_selection import train_test_split, GridSearchCV\n",
        "from sklearn.pipeline import Pipeline\n",
        "from sklearn.metrics import r2_score, mean_squared_error, mean_absolute_error, mean_absolute_percentage_error\n",
        "from sklearn.utils import check_array\n",
        "import xgboost as xgb\n",
        "from xgboost import plot_importance\n",
        "plt.style.use('fivethirtyeight')"
      ]
    },
    {
      "cell_type": "code",
      "execution_count": null,
      "metadata": {
        "id": "U1vSi9l0zDbl",
        "scrolled": true
      },
      "outputs": [],
      "source": [
        "target = merged_data_plant2['AC_POWER']\n",
        "features = merged_data_plant2[['IRRADIATION', 'AMBIENT_TEMPERATURE']]"
      ]
    },
    {
      "cell_type": "code",
      "execution_count": null,
      "metadata": {
        "id": "P2iU6exwzDbl"
      },
      "outputs": [],
      "source": [
        "# Разделение данных на обучающую и тестовую выборки\n",
        "#scaler = MinMaxScaler(feature_range=(0, 1))\n",
        "#features_norm = scaler.fit_transform(features)\n",
        "#target_norm = scaler.fit_transform(target)\n",
        "X_train, X_test, y_train, y_test = train_test_split(\n",
        "    features, target, test_size=0.3, random_state=5)"
      ]
    },
    {
      "cell_type": "code",
      "execution_count": null,
      "metadata": {
        "id": "8I7iZ6KazDbm"
      },
      "outputs": [],
      "source": [
        "#Прогнозирование с помощью линейной регрессии\n",
        "lm = linear_model.LinearRegression()\n",
        "model_lm = lm.fit(X_train, y_train)\n",
        "pred_y_test_lm = lm.predict(X_test)"
      ]
    },
    {
      "cell_type": "code",
      "execution_count": null,
      "metadata": {
        "colab": {
          "base_uri": "https://localhost:8080/"
        },
        "id": "8z5paq_KzDbm",
        "outputId": "466e328c-1f17-4630-e98e-667b02703367"
      },
      "outputs": [
        {
          "output_type": "stream",
          "name": "stdout",
          "text": [
            "R2 с использованием линейной регрессии: 0.8331420997408431  RMSE с использованием линейной регрессии: 2482.9999855124343 \n",
            " MAE с использованием линейной регрессии: 1577.5537872942864  MASE с использованием линейной регрессии: 0.24768773390073837\n"
          ]
        }
      ],
      "source": [
        "#  Вычисление MSE, MAE и MAPE для оценки ошибки модели\n",
        "R2_lm = r2_score(y_test, pred_y_test_lm)\n",
        "mse_lm = mean_squared_error(y_test, pred_y_test_lm, squared=False)\n",
        "mae_lm = mean_absolute_error(y_test, pred_y_test_lm)\n",
        "\n",
        "\n",
        "def mean_absolute_scaled_error(y_true, y_pred, y_train):\n",
        "    e_t = y_true - y_pred\n",
        "    scale = mean_absolute_error(y_train[1:], y_train[:-1])\n",
        "    return np.mean(np.abs(e_t / scale))\n",
        "\n",
        "\n",
        "mase_lm = mean_absolute_scaled_error(y_test, pred_y_test_lm, y_train)\n",
        "\n",
        "\n",
        "print('R2 с использованием линейной регрессии:', R2_lm, ' ' 'RMSE с использованием линейной регрессии:', mse_lm,\n",
        "'\\n ' 'MAE с использованием линейной регрессии:', mae_lm, ' ' 'MASE с использованием линейной регрессии:', mase_lm)"
      ]
    },
    {
      "cell_type": "code",
      "execution_count": null,
      "metadata": {
        "colab": {
          "base_uri": "https://localhost:8080/"
        },
        "id": "ptGMzGhFzDbm",
        "outputId": "60cd8914-e8e6-4b77-fe86-a264c89ca4c1"
      },
      "outputs": [
        {
          "output_type": "execute_result",
          "data": {
            "text/plain": [
              "{'use_rmm': False, 'verbosity': 1}"
            ]
          },
          "metadata": {},
          "execution_count": 106
        }
      ],
      "source": [
        "config = xgb.get_config()\n",
        "config"
      ]
    },
    {
      "cell_type": "code",
      "execution_count": null,
      "metadata": {
        "colab": {
          "base_uri": "https://localhost:8080/",
          "height": 305
        },
        "id": "OgudYOHhzDbm",
        "outputId": "bd321f68-89df-4754-9c6f-f9a9e851fd86",
        "scrolled": true
      },
      "outputs": [
        {
          "output_type": "stream",
          "name": "stderr",
          "text": [
            "/usr/local/lib/python3.10/dist-packages/xgboost/sklearn.py:835: UserWarning: `early_stopping_rounds` in `fit` method is deprecated for better compatibility with scikit-learn, use `early_stopping_rounds` in constructor or`set_params` instead.\n",
            "  warnings.warn(\n"
          ]
        },
        {
          "output_type": "execute_result",
          "data": {
            "text/plain": [
              "XGBRegressor(base_score=None, booster=None, callbacks=None,\n",
              "             colsample_bylevel=None, colsample_bynode=None,\n",
              "             colsample_bytree=None, early_stopping_rounds=None,\n",
              "             enable_categorical=False, eval_metric=None, feature_types=None,\n",
              "             gamma=None, gpu_id=None, grow_policy=None, importance_type=None,\n",
              "             interaction_constraints=None, learning_rate=None, max_bin=None,\n",
              "             max_cat_threshold=None, max_cat_to_onehot=None,\n",
              "             max_delta_step=None, max_depth=None, max_leaves=None,\n",
              "             min_child_weight=None, missing=nan, monotone_constraints=None,\n",
              "             n_estimators=50, n_jobs=None, num_parallel_tree=None,\n",
              "             predictor=None, random_state=None, ...)"
            ],
            "text/html": [
              "<style>#sk-container-id-9 {color: black;background-color: white;}#sk-container-id-9 pre{padding: 0;}#sk-container-id-9 div.sk-toggleable {background-color: white;}#sk-container-id-9 label.sk-toggleable__label {cursor: pointer;display: block;width: 100%;margin-bottom: 0;padding: 0.3em;box-sizing: border-box;text-align: center;}#sk-container-id-9 label.sk-toggleable__label-arrow:before {content: \"▸\";float: left;margin-right: 0.25em;color: #696969;}#sk-container-id-9 label.sk-toggleable__label-arrow:hover:before {color: black;}#sk-container-id-9 div.sk-estimator:hover label.sk-toggleable__label-arrow:before {color: black;}#sk-container-id-9 div.sk-toggleable__content {max-height: 0;max-width: 0;overflow: hidden;text-align: left;background-color: #f0f8ff;}#sk-container-id-9 div.sk-toggleable__content pre {margin: 0.2em;color: black;border-radius: 0.25em;background-color: #f0f8ff;}#sk-container-id-9 input.sk-toggleable__control:checked~div.sk-toggleable__content {max-height: 200px;max-width: 100%;overflow: auto;}#sk-container-id-9 input.sk-toggleable__control:checked~label.sk-toggleable__label-arrow:before {content: \"▾\";}#sk-container-id-9 div.sk-estimator input.sk-toggleable__control:checked~label.sk-toggleable__label {background-color: #d4ebff;}#sk-container-id-9 div.sk-label input.sk-toggleable__control:checked~label.sk-toggleable__label {background-color: #d4ebff;}#sk-container-id-9 input.sk-hidden--visually {border: 0;clip: rect(1px 1px 1px 1px);clip: rect(1px, 1px, 1px, 1px);height: 1px;margin: -1px;overflow: hidden;padding: 0;position: absolute;width: 1px;}#sk-container-id-9 div.sk-estimator {font-family: monospace;background-color: #f0f8ff;border: 1px dotted black;border-radius: 0.25em;box-sizing: border-box;margin-bottom: 0.5em;}#sk-container-id-9 div.sk-estimator:hover {background-color: #d4ebff;}#sk-container-id-9 div.sk-parallel-item::after {content: \"\";width: 100%;border-bottom: 1px solid gray;flex-grow: 1;}#sk-container-id-9 div.sk-label:hover label.sk-toggleable__label {background-color: #d4ebff;}#sk-container-id-9 div.sk-serial::before {content: \"\";position: absolute;border-left: 1px solid gray;box-sizing: border-box;top: 0;bottom: 0;left: 50%;z-index: 0;}#sk-container-id-9 div.sk-serial {display: flex;flex-direction: column;align-items: center;background-color: white;padding-right: 0.2em;padding-left: 0.2em;position: relative;}#sk-container-id-9 div.sk-item {position: relative;z-index: 1;}#sk-container-id-9 div.sk-parallel {display: flex;align-items: stretch;justify-content: center;background-color: white;position: relative;}#sk-container-id-9 div.sk-item::before, #sk-container-id-9 div.sk-parallel-item::before {content: \"\";position: absolute;border-left: 1px solid gray;box-sizing: border-box;top: 0;bottom: 0;left: 50%;z-index: -1;}#sk-container-id-9 div.sk-parallel-item {display: flex;flex-direction: column;z-index: 1;position: relative;background-color: white;}#sk-container-id-9 div.sk-parallel-item:first-child::after {align-self: flex-end;width: 50%;}#sk-container-id-9 div.sk-parallel-item:last-child::after {align-self: flex-start;width: 50%;}#sk-container-id-9 div.sk-parallel-item:only-child::after {width: 0;}#sk-container-id-9 div.sk-dashed-wrapped {border: 1px dashed gray;margin: 0 0.4em 0.5em 0.4em;box-sizing: border-box;padding-bottom: 0.4em;background-color: white;}#sk-container-id-9 div.sk-label label {font-family: monospace;font-weight: bold;display: inline-block;line-height: 1.2em;}#sk-container-id-9 div.sk-label-container {text-align: center;}#sk-container-id-9 div.sk-container {/* jupyter's `normalize.less` sets `[hidden] { display: none; }` but bootstrap.min.css set `[hidden] { display: none !important; }` so we also need the `!important` here to be able to override the default hidden behavior on the sphinx rendered scikit-learn.org. See: https://github.com/scikit-learn/scikit-learn/issues/21755 */display: inline-block !important;position: relative;}#sk-container-id-9 div.sk-text-repr-fallback {display: none;}</style><div id=\"sk-container-id-9\" class=\"sk-top-container\"><div class=\"sk-text-repr-fallback\"><pre>XGBRegressor(base_score=None, booster=None, callbacks=None,\n",
              "             colsample_bylevel=None, colsample_bynode=None,\n",
              "             colsample_bytree=None, early_stopping_rounds=None,\n",
              "             enable_categorical=False, eval_metric=None, feature_types=None,\n",
              "             gamma=None, gpu_id=None, grow_policy=None, importance_type=None,\n",
              "             interaction_constraints=None, learning_rate=None, max_bin=None,\n",
              "             max_cat_threshold=None, max_cat_to_onehot=None,\n",
              "             max_delta_step=None, max_depth=None, max_leaves=None,\n",
              "             min_child_weight=None, missing=nan, monotone_constraints=None,\n",
              "             n_estimators=50, n_jobs=None, num_parallel_tree=None,\n",
              "             predictor=None, random_state=None, ...)</pre><b>In a Jupyter environment, please rerun this cell to show the HTML representation or trust the notebook. <br />On GitHub, the HTML representation is unable to render, please try loading this page with nbviewer.org.</b></div><div class=\"sk-container\" hidden><div class=\"sk-item\"><div class=\"sk-estimator sk-toggleable\"><input class=\"sk-toggleable__control sk-hidden--visually\" id=\"sk-estimator-id-17\" type=\"checkbox\" checked><label for=\"sk-estimator-id-17\" class=\"sk-toggleable__label sk-toggleable__label-arrow\">XGBRegressor</label><div class=\"sk-toggleable__content\"><pre>XGBRegressor(base_score=None, booster=None, callbacks=None,\n",
              "             colsample_bylevel=None, colsample_bynode=None,\n",
              "             colsample_bytree=None, early_stopping_rounds=None,\n",
              "             enable_categorical=False, eval_metric=None, feature_types=None,\n",
              "             gamma=None, gpu_id=None, grow_policy=None, importance_type=None,\n",
              "             interaction_constraints=None, learning_rate=None, max_bin=None,\n",
              "             max_cat_threshold=None, max_cat_to_onehot=None,\n",
              "             max_delta_step=None, max_depth=None, max_leaves=None,\n",
              "             min_child_weight=None, missing=nan, monotone_constraints=None,\n",
              "             n_estimators=50, n_jobs=None, num_parallel_tree=None,\n",
              "             predictor=None, random_state=None, ...)</pre></div></div></div></div></div>"
            ]
          },
          "metadata": {},
          "execution_count": 107
        }
      ],
      "source": [
        "# Обучение модели XG Boost на наборе данных о генерации солнечной энергии\n",
        "model_xgb = xgb.XGBRegressor(n_estimators=50)\n",
        "model_xgb.fit(X_train, y_train,\n",
        "              eval_set=[(X_train, y_train),\n",
        "                        (X_test, y_test)],\n",
        "              early_stopping_rounds=50,\n",
        "              verbose=False)"
      ]
    },
    {
      "cell_type": "code",
      "execution_count": null,
      "metadata": {
        "colab": {
          "base_uri": "https://localhost:8080/",
          "height": 504
        },
        "id": "1ACj_4GfzDbn",
        "outputId": "7afcef01-7a94-4d7d-e5c4-59222e12c859"
      },
      "outputs": [
        {
          "output_type": "display_data",
          "data": {
            "text/plain": [
              "<Figure size 640x480 with 1 Axes>"
            ],
            "image/png": "[encoded data removed]"
          },
          "metadata": {}
        }
      ],
      "source": [
        "# Построение графика значимости признаков для прогнозирования\n",
        "_ = plot_importance(model_xgb, height=0.5)"
      ]
    },
    {
      "cell_type": "code",
      "execution_count": null,
      "metadata": {
        "id": "Zhy1ygjSzDbn"
      },
      "outputs": [],
      "source": [
        "pred_y_test_xgb = model_xgb.predict(X_test)"
      ]
    },
    {
      "cell_type": "code",
      "execution_count": null,
      "metadata": {
        "colab": {
          "base_uri": "https://localhost:8080/"
        },
        "id": "FZgJUKqNzDbn",
        "outputId": "4cf718be-db5b-4487-d2b3-6db7bec9ae9f"
      },
      "outputs": [
        {
          "output_type": "stream",
          "name": "stdout",
          "text": [
            "R2 с использованием XGBoost: 0.9020792863295167  RMSE с использованием XGBoost: 1902.1318384925057 \n",
            " MAE с использованием XGBoost: 820.604295959098  MASE с использованием XGBoost: 0.12884100696428655\n"
          ]
        }
      ],
      "source": [
        "# Вычисление MSE (среднеквадратичная ошибка), MAE (средняя абсолютная ошибка) и MAPE (средняя абсолютная процентная ошибка) для прогнозируемых значений с целью оценки ошибки модели\n",
        "R2_xgb = r2_score(y_test, pred_y_test_xgb)\n",
        "mse_xgb = mean_squared_error(y_test, pred_y_test_xgb, squared=False)\n",
        "mae_xgb = mean_absolute_error(y_test, pred_y_test_xgb)\n",
        "mase_xgb = mean_absolute_scaled_error(y_test, pred_y_test_xgb, y_train)\n",
        "\n",
        "print('R2 с использованием XGBoost:', R2_xgb, ' ' 'RMSE с использованием XGBoost:', mse_xgb,\n",
        "'\\n ' 'MAE с использованием XGBoost:', mae_xgb, ' ' 'MASE с использованием XGBoost:', mase_xgb)"
      ]
    },
    {
      "cell_type": "code",
      "execution_count": null,
      "metadata": {
        "id": "aKuIDsE0zDbn"
      },
      "outputs": [],
      "source": [
        "# Определение конвейера (Pipeline) и сетки параметров (Parameter grid)\n",
        "pipeline = Pipeline([\n",
        "    ('model', model_xgb)\n",
        "])\n",
        "\n",
        "param_grid = {\n",
        "    'model__max_depth': [2, 3, 5, 7],\n",
        "    'model__n_estimators': [10, 50, 100],\n",
        "    'model__learning_rate': [0.02, 0.05, 0.1, 0.3],\n",
        "    'model__min_child_weight': [0.5, 1, 2]\n",
        "}\n",
        "\n",
        "grid = GridSearchCV(pipeline, param_grid, cv=5, n_jobs=-1)"
      ]
    },
    {
      "cell_type": "code",
      "execution_count": null,
      "metadata": {
        "colab": {
          "base_uri": "https://localhost:8080/",
          "height": 118
        },
        "id": "LdqmOlH0zDbn",
        "scrolled": true,
        "outputId": "41107c35-4c53-4120-9f13-db4c73314e18"
      },
      "outputs": [
        {
          "output_type": "execute_result",
          "data": {
            "text/plain": [
              "GridSearchCV(cv=5,\n",
              "             estimator=Pipeline(steps=[('model',\n",
              "                                        XGBRegressor(base_score=None,\n",
              "                                                     booster=None,\n",
              "                                                     callbacks=None,\n",
              "                                                     colsample_bylevel=None,\n",
              "                                                     colsample_bynode=None,\n",
              "                                                     colsample_bytree=None,\n",
              "                                                     early_stopping_rounds=None,\n",
              "                                                     enable_categorical=False,\n",
              "                                                     eval_metric=None,\n",
              "                                                     feature_types=None,\n",
              "                                                     gamma=None, gpu_id=None,\n",
              "                                                     grow_policy=None,\n",
              "                                                     importance_type=None,\n",
              "                                                     interaction_constraints=...\n",
              "                                                     max_delta_step=None,\n",
              "                                                     max_depth=None,\n",
              "                                                     max_leaves=None,\n",
              "                                                     min_child_weight=None,\n",
              "                                                     missing=nan,\n",
              "                                                     monotone_constraints=None,\n",
              "                                                     n_estimators=50,\n",
              "                                                     n_jobs=None,\n",
              "                                                     num_parallel_tree=None,\n",
              "                                                     predictor=None,\n",
              "                                                     random_state=None, ...))]),\n",
              "             n_jobs=-1,\n",
              "             param_grid={'model__learning_rate': [0.02, 0.05, 0.1, 0.3],\n",
              "                         'model__max_depth': [2, 3, 5, 7],\n",
              "                         'model__min_child_weight': [0.5, 1, 2],\n",
              "                         'model__n_estimators': [10, 50, 100]})"
            ],
            "text/html": [
              "<style>#sk-container-id-10 {color: black;background-color: white;}#sk-container-id-10 pre{padding: 0;}#sk-container-id-10 div.sk-toggleable {background-color: white;}#sk-container-id-10 label.sk-toggleable__label {cursor: pointer;display: block;width: 100%;margin-bottom: 0;padding: 0.3em;box-sizing: border-box;text-align: center;}#sk-container-id-10 label.sk-toggleable__label-arrow:before {content: \"▸\";float: left;margin-right: 0.25em;color: #696969;}#sk-container-id-10 label.sk-toggleable__label-arrow:hover:before {color: black;}#sk-container-id-10 div.sk-estimator:hover label.sk-toggleable__label-arrow:before {color: black;}#sk-container-id-10 div.sk-toggleable__content {max-height: 0;max-width: 0;overflow: hidden;text-align: left;background-color: #f0f8ff;}#sk-container-id-10 div.sk-toggleable__content pre {margin: 0.2em;color: black;border-radius: 0.25em;background-color: #f0f8ff;}#sk-container-id-10 input.sk-toggleable__control:checked~div.sk-toggleable__content {max-height: 200px;max-width: 100%;overflow: auto;}#sk-container-id-10 input.sk-toggleable__control:checked~label.sk-toggleable__label-arrow:before {content: \"▾\";}#sk-container-id-10 div.sk-estimator input.sk-toggleable__control:checked~label.sk-toggleable__label {background-color: #d4ebff;}#sk-container-id-10 div.sk-label input.sk-toggleable__control:checked~label.sk-toggleable__label {background-color: #d4ebff;}#sk-container-id-10 input.sk-hidden--visually {border: 0;clip: rect(1px 1px 1px 1px);clip: rect(1px, 1px, 1px, 1px);height: 1px;margin: -1px;overflow: hidden;padding: 0;position: absolute;width: 1px;}#sk-container-id-10 div.sk-estimator {font-family: monospace;background-color: #f0f8ff;border: 1px dotted black;border-radius: 0.25em;box-sizing: border-box;margin-bottom: 0.5em;}#sk-container-id-10 div.sk-estimator:hover {background-color: #d4ebff;}#sk-container-id-10 div.sk-parallel-item::after {content: \"\";width: 100%;border-bottom: 1px solid gray;flex-grow: 1;}#sk-container-id-10 div.sk-label:hover label.sk-toggleable__label {background-color: #d4ebff;}#sk-container-id-10 div.sk-serial::before {content: \"\";position: absolute;border-left: 1px solid gray;box-sizing: border-box;top: 0;bottom: 0;left: 50%;z-index: 0;}#sk-container-id-10 div.sk-serial {display: flex;flex-direction: column;align-items: center;background-color: white;padding-right: 0.2em;padding-left: 0.2em;position: relative;}#sk-container-id-10 div.sk-item {position: relative;z-index: 1;}#sk-container-id-10 div.sk-parallel {display: flex;align-items: stretch;justify-content: center;background-color: white;position: relative;}#sk-container-id-10 div.sk-item::before, #sk-container-id-10 div.sk-parallel-item::before {content: \"\";position: absolute;border-left: 1px solid gray;box-sizing: border-box;top: 0;bottom: 0;left: 50%;z-index: -1;}#sk-container-id-10 div.sk-parallel-item {display: flex;flex-direction: column;z-index: 1;position: relative;background-color: white;}#sk-container-id-10 div.sk-parallel-item:first-child::after {align-self: flex-end;width: 50%;}#sk-container-id-10 div.sk-parallel-item:last-child::after {align-self: flex-start;width: 50%;}#sk-container-id-10 div.sk-parallel-item:only-child::after {width: 0;}#sk-container-id-10 div.sk-dashed-wrapped {border: 1px dashed gray;margin: 0 0.4em 0.5em 0.4em;box-sizing: border-box;padding-bottom: 0.4em;background-color: white;}#sk-container-id-10 div.sk-label label {font-family: monospace;font-weight: bold;display: inline-block;line-height: 1.2em;}#sk-container-id-10 div.sk-label-container {text-align: center;}#sk-container-id-10 div.sk-container {/* jupyter's `normalize.less` sets `[hidden] { display: none; }` but bootstrap.min.css set `[hidden] { display: none !important; }` so we also need the `!important` here to be able to override the default hidden behavior on the sphinx rendered scikit-learn.org. See: https://github.com/scikit-learn/scikit-learn/issues/21755 */display: inline-block !important;position: relative;}#sk-container-id-10 div.sk-text-repr-fallback {display: none;}</style><div id=\"sk-container-id-10\" class=\"sk-top-container\"><div class=\"sk-text-repr-fallback\"><pre>GridSearchCV(cv=5,\n",
              "             estimator=Pipeline(steps=[(&#x27;model&#x27;,\n",
              "                                        XGBRegressor(base_score=None,\n",
              "                                                     booster=None,\n",
              "                                                     callbacks=None,\n",
              "                                                     colsample_bylevel=None,\n",
              "                                                     colsample_bynode=None,\n",
              "                                                     colsample_bytree=None,\n",
              "                                                     early_stopping_rounds=None,\n",
              "                                                     enable_categorical=False,\n",
              "                                                     eval_metric=None,\n",
              "                                                     feature_types=None,\n",
              "                                                     gamma=None, gpu_id=None,\n",
              "                                                     grow_policy=None,\n",
              "                                                     importance_type=None,\n",
              "                                                     interaction_constraints=...\n",
              "                                                     max_delta_step=None,\n",
              "                                                     max_depth=None,\n",
              "                                                     max_leaves=None,\n",
              "                                                     min_child_weight=None,\n",
              "                                                     missing=nan,\n",
              "                                                     monotone_constraints=None,\n",
              "                                                     n_estimators=50,\n",
              "                                                     n_jobs=None,\n",
              "                                                     num_parallel_tree=None,\n",
              "                                                     predictor=None,\n",
              "                                                     random_state=None, ...))]),\n",
              "             n_jobs=-1,\n",
              "             param_grid={&#x27;model__learning_rate&#x27;: [0.02, 0.05, 0.1, 0.3],\n",
              "                         &#x27;model__max_depth&#x27;: [2, 3, 5, 7],\n",
              "                         &#x27;model__min_child_weight&#x27;: [0.5, 1, 2],\n",
              "                         &#x27;model__n_estimators&#x27;: [10, 50, 100]})</pre><b>In a Jupyter environment, please rerun this cell to show the HTML representation or trust the notebook. <br />On GitHub, the HTML representation is unable to render, please try loading this page with nbviewer.org.</b></div><div class=\"sk-container\" hidden><div class=\"sk-item sk-dashed-wrapped\"><div class=\"sk-label-container\"><div class=\"sk-label sk-toggleable\"><input class=\"sk-toggleable__control sk-hidden--visually\" id=\"sk-estimator-id-18\" type=\"checkbox\" ><label for=\"sk-estimator-id-18\" class=\"sk-toggleable__label sk-toggleable__label-arrow\">GridSearchCV</label><div class=\"sk-toggleable__content\"><pre>GridSearchCV(cv=5,\n",
              "             estimator=Pipeline(steps=[(&#x27;model&#x27;,\n",
              "                                        XGBRegressor(base_score=None,\n",
              "                                                     booster=None,\n",
              "                                                     callbacks=None,\n",
              "                                                     colsample_bylevel=None,\n",
              "                                                     colsample_bynode=None,\n",
              "                                                     colsample_bytree=None,\n",
              "                                                     early_stopping_rounds=None,\n",
              "                                                     enable_categorical=False,\n",
              "                                                     eval_metric=None,\n",
              "                                                     feature_types=None,\n",
              "                                                     gamma=None, gpu_id=None,\n",
              "                                                     grow_policy=None,\n",
              "                                                     importance_type=None,\n",
              "                                                     interaction_constraints=...\n",
              "                                                     max_delta_step=None,\n",
              "                                                     max_depth=None,\n",
              "                                                     max_leaves=None,\n",
              "                                                     min_child_weight=None,\n",
              "                                                     missing=nan,\n",
              "                                                     monotone_constraints=None,\n",
              "                                                     n_estimators=50,\n",
              "                                                     n_jobs=None,\n",
              "                                                     num_parallel_tree=None,\n",
              "                                                     predictor=None,\n",
              "                                                     random_state=None, ...))]),\n",
              "             n_jobs=-1,\n",
              "             param_grid={&#x27;model__learning_rate&#x27;: [0.02, 0.05, 0.1, 0.3],\n",
              "                         &#x27;model__max_depth&#x27;: [2, 3, 5, 7],\n",
              "                         &#x27;model__min_child_weight&#x27;: [0.5, 1, 2],\n",
              "                         &#x27;model__n_estimators&#x27;: [10, 50, 100]})</pre></div></div></div><div class=\"sk-parallel\"><div class=\"sk-parallel-item\"><div class=\"sk-item\"><div class=\"sk-label-container\"><div class=\"sk-label sk-toggleable\"><input class=\"sk-toggleable__control sk-hidden--visually\" id=\"sk-estimator-id-19\" type=\"checkbox\" ><label for=\"sk-estimator-id-19\" class=\"sk-toggleable__label sk-toggleable__label-arrow\">estimator: Pipeline</label><div class=\"sk-toggleable__content\"><pre>Pipeline(steps=[(&#x27;model&#x27;,\n",
              "                 XGBRegressor(base_score=None, booster=None, callbacks=None,\n",
              "                              colsample_bylevel=None, colsample_bynode=None,\n",
              "                              colsample_bytree=None, early_stopping_rounds=None,\n",
              "                              enable_categorical=False, eval_metric=None,\n",
              "                              feature_types=None, gamma=None, gpu_id=None,\n",
              "                              grow_policy=None, importance_type=None,\n",
              "                              interaction_constraints=None, learning_rate=None,\n",
              "                              max_bin=None, max_cat_threshold=None,\n",
              "                              max_cat_to_onehot=None, max_delta_step=None,\n",
              "                              max_depth=None, max_leaves=None,\n",
              "                              min_child_weight=None, missing=nan,\n",
              "                              monotone_constraints=None, n_estimators=50,\n",
              "                              n_jobs=None, num_parallel_tree=None,\n",
              "                              predictor=None, random_state=None, ...))])</pre></div></div></div><div class=\"sk-serial\"><div class=\"sk-item\"><div class=\"sk-serial\"><div class=\"sk-item\"><div class=\"sk-estimator sk-toggleable\"><input class=\"sk-toggleable__control sk-hidden--visually\" id=\"sk-estimator-id-20\" type=\"checkbox\" ><label for=\"sk-estimator-id-20\" class=\"sk-toggleable__label sk-toggleable__label-arrow\">XGBRegressor</label><div class=\"sk-toggleable__content\"><pre>XGBRegressor(base_score=None, booster=None, callbacks=None,\n",
              "             colsample_bylevel=None, colsample_bynode=None,\n",
              "             colsample_bytree=None, early_stopping_rounds=None,\n",
              "             enable_categorical=False, eval_metric=None, feature_types=None,\n",
              "             gamma=None, gpu_id=None, grow_policy=None, importance_type=None,\n",
              "             interaction_constraints=None, learning_rate=None, max_bin=None,\n",
              "             max_cat_threshold=None, max_cat_to_onehot=None,\n",
              "             max_delta_step=None, max_depth=None, max_leaves=None,\n",
              "             min_child_weight=None, missing=nan, monotone_constraints=None,\n",
              "             n_estimators=50, n_jobs=None, num_parallel_tree=None,\n",
              "             predictor=None, random_state=None, ...)</pre></div></div></div></div></div></div></div></div></div></div></div></div>"
            ]
          },
          "metadata": {},
          "execution_count": 112
        }
      ],
      "source": [
        "# Обучение модели\n",
        "grid.fit(X_train, y_train)"
      ]
    },
    {
      "cell_type": "code",
      "execution_count": null,
      "metadata": {
        "colab": {
          "base_uri": "https://localhost:8080/"
        },
        "id": "nRcCjILSzDbo",
        "outputId": "66d4792e-5005-4dba-a782-4f93c16b5fce"
      },
      "outputs": [
        {
          "output_type": "stream",
          "name": "stdout",
          "text": [
            "Лучшие параметры: {'model__learning_rate': 0.05, 'model__max_depth': 2, 'model__min_child_weight': 2, 'model__n_estimators': 100}\n"
          ]
        }
      ],
      "source": [
        "# Вывод лучших параметров для модели, определенных с помощью Gridsearch\n",
        "print(f\"Лучшие параметры: {grid.best_params_}\")"
      ]
    },
    {
      "cell_type": "code",
      "execution_count": null,
      "metadata": {
        "id": "pUPvyrfRzDbo"
      },
      "outputs": [],
      "source": [
        "# Прогнозирование с помощью Gridsearch\n",
        "pred_y_test_xgb_grid = grid.predict(X_test)"
      ]
    },
    {
      "cell_type": "code",
      "execution_count": null,
      "metadata": {
        "colab": {
          "base_uri": "https://localhost:8080/"
        },
        "id": "02LPudAizDbo",
        "outputId": "2a92c5ca-8d46-4731-d310-9798c5cfc0ee"
      },
      "outputs": [
        {
          "output_type": "stream",
          "name": "stdout",
          "text": [
            "R2 с использованием модели XGB_grid: 0.9152617389788107  RMSE с использованием модели XGB_grid: 1769.4695912899797 \n",
            " MAE с использованием модели XGB_grid: 823.8470637108431  MASE с использованием модели XGB_grid: 0.12935014573499926\n"
          ]
        }
      ],
      "source": [
        "# Вычисление MSE (среднеквадратичная ошибка), MAE (средняя абсолютная ошибка) и MAPE (средняя абсолютная процентная ошибка) для прогнозируемых значений с целью оценки ошибки модели\n",
        "R2_xgb_grid = r2_score(y_test, pred_y_test_xgb_grid)\n",
        "mse_xgb_grid = mean_squared_error(y_test, pred_y_test_xgb_grid, squared=False)\n",
        "mae_xgb_grid = mean_absolute_error(y_test, pred_y_test_xgb_grid)\n",
        "mase_xgb_grid = mean_absolute_scaled_error(\n",
        "    y_test, pred_y_test_xgb_grid, y_train)\n",
        "\n",
        "print('R2 с использованием модели XGB_grid:', R2_xgb_grid, ' ' 'RMSE с использованием модели XGB_grid:', mse_xgb_grid,\n",
        "'\\n ' 'MAE с использованием модели XGB_grid:', mae_xgb_grid, ' ' 'MASE с использованием модели XGB_grid:', mase_xgb_grid)"
      ]
    },
    {
      "cell_type": "code",
      "execution_count": null,
      "metadata": {
        "id": "76e9M_3SzDbo"
      },
      "outputs": [],
      "source": [
        "import keras\n",
        "from keras.models import Sequential\n",
        "from keras.layers import Dense\n",
        "from keras.layers import LSTM\n",
        "from sklearn.preprocessing import MinMaxScaler"
      ]
    },
    {
      "cell_type": "code",
      "execution_count": null,
      "metadata": {
        "id": "I2nAd6J_zDbo"
      },
      "outputs": [],
      "source": [
        "# Разделение нормализованных данных на обучающую и тестовую выборки\n",
        "scaler = MinMaxScaler(feature_range=(0, 1))\n",
        "features_norm = scaler.fit_transform(features)\n",
        "#target_norm = scaler.fit_transform(target)\n",
        "X_train1, X_test1, y_train1, y_test1 = train_test_split(\n",
        "    features_norm, target, test_size=0.3, random_state=5)"
      ]
    },
    {
      "cell_type": "code",
      "source": [
        "\n",
        "y_test\n"
      ],
      "metadata": {
        "colab": {
          "base_uri": "https://localhost:8080/"
        },
        "id": "9AYbzztoaZMn",
        "outputId": "c10a3ef2-8bc2-47eb-816f-dbdb9273e581"
      },
      "execution_count": null,
      "outputs": [
        {
          "output_type": "execute_result",
          "data": {
            "text/plain": [
              "1728       0.000000\n",
              "2039    3584.544286\n",
              "0          0.000000\n",
              "2270    4084.562381\n",
              "2332    9764.805238\n",
              "           ...     \n",
              "2119       0.000000\n",
              "87         0.000000\n",
              "447      705.962500\n",
              "1626       0.000000\n",
              "3054       0.000000\n",
              "Name: AC_POWER, Length: 978, dtype: float64"
            ]
          },
          "metadata": {},
          "execution_count": 124
        }
      ]
    },
    {
      "cell_type": "code",
      "source": [
        "pred_y_test_lm"
      ],
      "metadata": {
        "id": "bE9-wm9sbtgM"
      },
      "execution_count": null,
      "outputs": []
    },
    {
      "cell_type": "code",
      "source": [
        "pred_y_test_xgb"
      ],
      "metadata": {
        "id": "hdTANWiWby0d"
      },
      "execution_count": null,
      "outputs": []
    },
    {
      "cell_type": "code",
      "source": [
        "# Визуализация исходных данных и предсказанных значений\n",
        "plt.plot(y_test, label='Исходные данные')\n",
        "plt.plot(pred_y_test_lm, label='Предсказанные значения (Линейная регрессия)')\n",
        "plt.plot(pred_y_test_xgb, label='Предсказанные значения (XG Boost)')\n",
        "plt.legend()\n",
        "plt.show()"
      ],
      "metadata": {
        "colab": {
          "base_uri": "https://localhost:8080/",
          "height": 445
        },
        "id": "0OFBmZr9bJgk",
        "outputId": "7b81148f-53c2-4e95-b29d-35681ee5e9f2"
      },
      "execution_count": null,
      "outputs": [
        {
          "output_type": "display_data",
          "data": {
            "text/plain": [
              "<Figure size 640x480 with 1 Axes>"
            ],
            "image/png": "[encoded data removed]"
          },
          "metadata": {}
        }
      ]
    }
  ],
  "metadata": {
    "colab": {
      "provenance": []
    },
    "kernelspec": {
      "display_name": "Python 3 (ipykernel)",
      "language": "python",
      "name": "python3"
    },
    "language_info": {
      "codemirror_mode": {
        "name": "ipython",
        "version": 3
      },
      "file_extension": ".py",
      "mimetype": "text/x-python",
      "name": "python",
      "nbconvert_exporter": "python",
      "pygments_lexer": "ipython3",
      "version": "3.8.16"
    }
  },
  "nbformat": 4,
  "nbformat_minor": 0
}